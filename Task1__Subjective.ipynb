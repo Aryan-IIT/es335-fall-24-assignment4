{
 "cells": [
  {
   "cell_type": "markdown",
   "metadata": {},
   "source": [
    "# SUBJECTIVE PART #\n",
    "\n"
   ]
  },
  {
   "cell_type": "markdown",
   "metadata": {},
   "source": [
    "## Does Number of Epochs Matter While Fine Tuning the Parameters ##"
   ]
  },
  {
   "cell_type": "markdown",
   "metadata": {},
   "source": [
    "Yes, number of epochs does matter. \n",
    "\n",
    "Too few epochs would lead to underfitting.\n",
    "\n",
    "Too many would lead to overfitting\n",
    "\n",
    "You can use methods like early stopping based on low change in accuracy after each epoch or a cross validation set. "
   ]
  },
  {
   "cell_type": "markdown",
   "metadata": {},
   "source": [
    "## Does Data Augmentation help? ##"
   ]
  },
  {
   "cell_type": "markdown",
   "metadata": {},
   "source": [
    "Yes, data augmentation helps.\n",
    "\n",
    "It helps by reducing overfitting.\n",
    "\n",
    "Basically we are using more variations of the training data so the data set size increases \n",
    "and it helps to improve generalisation and robustness to variations"
   ]
  },
  {
   "cell_type": "markdown",
   "metadata": {},
   "source": [
    "## Are the results expected ##"
   ]
  },
  {
   "cell_type": "markdown",
   "metadata": {},
   "source": [
    "Yes, the results are expected except that we got bad accuracy while fine tuning the parameters.\n",
    "\n",
    "Maybe, this is because model overfits to the train data as we unfroze all layers."
   ]
  },
  {
   "cell_type": "markdown",
   "metadata": {},
   "source": [
    "## Are there any particular images the model is confused about ##"
   ]
  },
  {
   "cell_type": "markdown",
   "metadata": {},
   "source": [
    "Yes, the model is misclassifying young antelopes as rabbits coz of similarity in features\n",
    "\n",
    "Otherwise, no patterns have been observed"
   ]
  }
 ],
 "metadata": {
  "language_info": {
   "name": "python"
  }
 },
 "nbformat": 4,
 "nbformat_minor": 2
}
